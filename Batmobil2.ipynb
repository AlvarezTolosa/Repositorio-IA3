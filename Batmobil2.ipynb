{
  "nbformat": 4,
  "nbformat_minor": 0,
  "metadata": {
    "colab": {
      "name": "Batmobil2.ipynb",
      "provenance": [],
      "collapsed_sections": [],
      "include_colab_link": true
    },
    "kernelspec": {
      "name": "python3",
      "display_name": "Python 3"
    },
    "language_info": {
      "name": "python"
    }
  },
  "cells": [
    {
      "cell_type": "markdown",
      "metadata": {
        "id": "view-in-github",
        "colab_type": "text"
      },
      "source": [
        "<a href=\"https://colab.research.google.com/github/AlvarezTolosa/Repositorio-IA3/blob/main/Batmobil2.ipynb\" target=\"_parent\"><img src=\"https://colab.research.google.com/assets/colab-badge.svg\" alt=\"Open In Colab\"/></a>"
      ]
    },
    {
      "cell_type": "code",
      "metadata": {
        "id": "DaMr4SvFrowy"
      },
      "source": [
        " "
      ],
      "execution_count": null,
      "outputs": []
    },
    {
      "cell_type": "markdown",
      "metadata": {
        "id": "qJL6ldIfr7c2"
      },
      "source": [
        "I am making a new Batman movie and I need your help to design the new Batmobile. For this ocassion I would like you to design it as several Python Classes.\n",
        "\n",
        "Design the main Batmobile class with the following attributes: Pilot (It could be Batman or Robin), number of batrockets loaded, number of pem (this are electromagnetic pulses to counter the Joker weapons) uses left, liters of gas left in the batmobile\n",
        "\n",
        "Add the following methods to the Batmobile class: A method to accelerate the batmobile and drive for some distance, a method to activate the turbo and drive for some distance faster than the normal method, a method to launch a rocket to a Joker colleague, a method to launch a pem use.\n",
        "\n",
        "Create the following classes to interact with the Batmobile: Joker, Joker Villain, Rocket, PEM Pulse.\n",
        "\n",
        "The Joker and Jokker Villain class should have a parameter called KO which will turn to True when they receive a Rocket. They also have a parameter called Weapon which should turn to false if they receive a PEM Pulse.\n",
        "\n",
        "The Rocket and PEM Pulse are the ammunition of the Batmobile, the car can only use the weapons if it has ammunition in the arsenal.\n",
        "\n",
        "Finally draw a diagram of the classes using diagram.io showing how they interact.\n",
        "\n",
        "Se propone la siguiente distribución de la carga de trabajo:\n",
        "\n",
        "Un estudiante podría diseñar la clase del batmóvil. Mientras sus dos compañeros podrían desarrollar las clases relacionadas con el armamento del mismo y los distintos villanos descritos.\n",
        "Una vez desarrolladas las piezas de código por separado se procedería a la integración en equipo de todo el sistema.\n",
        "Uno de los estudiantes (aquel con menor carga en programación) desarrollaría el diagrama de la pieza de software."
      ]
    },
    {
      "cell_type": "code",
      "metadata": {
        "id": "TA89UWxtrzKM"
      },
      "source": [
        "class Batmobile1:\n",
        "    BarRocketsLoadedCount = 0\n",
        "    def __init__(self):\n",
        "        Batmobile1.BarRocketsLoadedCount += 1"
      ],
      "execution_count": null,
      "outputs": []
    },
    {
      "cell_type": "code",
      "metadata": {
        "id": "edNrEzX7sKAX"
      },
      "source": [
        "class Batmobile2:\n",
        "    default_PEMuse_number = 0\n",
        "\n",
        "    def __init__(self, max_PEMuse_number):\n",
        "        self.max_PEMuse_number = max_PEMuse_number\n",
        "        self.PEMuse_number = Batmobile2.default_PEMuse_number\n",
        "\n",
        "    def set_PEMuse_number(self, PEMuse_number):\n",
        "        self.PEMuse_number = PEMuse_number\n",
        "\n",
        "    def PEMuse_number_left(self):\n",
        "        return self.max_PEMuse_number - self.PEMuse_number"
      ],
      "execution_count": null,
      "outputs": []
    },
    {
      "cell_type": "code",
      "metadata": {
        "id": "KyD00gcSsnCU"
      },
      "source": [
        "class Batmobile3:\n",
        "    default_Liters_gas = 0\n",
        "\n",
        "    def __init__(self, max_Liters_gas):\n",
        "        self.max_Liters_gas = max_Liters_gas\n",
        "        self.Liters_gas = Batmobile3.default_Liters_gas\n",
        "\n",
        "    def set_Liters_gas(self, Liters_gas):\n",
        "        self.Liters_gas = Liters_gas\n",
        "\n",
        "    def Liters_gas_left(self):\n",
        "        return self.max_Liters_gas - self.Liters_gas"
      ],
      "execution_count": null,
      "outputs": []
    },
    {
      "cell_type": "code",
      "metadata": {
        "id": "QEhOKcCEsokd"
      },
      "source": [
        "class Pilot:\n",
        "    def __init__(self, name):\n",
        "        self.name = name\n",
        "batman = Pilot(\"Batman\")\n",
        "robin = Pilot(\"Robin\")"
      ],
      "execution_count": null,
      "outputs": []
    },
    {
      "cell_type": "code",
      "metadata": {
        "id": "EqEcFZhystO1"
      },
      "source": [
        "# Function to calculate distance traveled based on speed\n",
        "def calculate_distance1(speed, time):\n",
        "    print(\" Time(hr) :\", time) ;\n",
        "    print(\" Speed(km / hr) :\", speed);\n",
        "    return speed * time;"
      ],
      "execution_count": null,
      "outputs": []
    },
    {
      "cell_type": "code",
      "metadata": {
        "id": "7jhL-QUJstot"
      },
      "source": [
        "class Time:\n",
        "    def __init__(self, hours, minutes, seconds):\n",
        "        self.hours = hours\n",
        "        self.minutes = minutes\n",
        "        self.seconds = seconds\n",
        "    \n",
        "    def increment(self, seconds):\n",
        "        self.seconds = seconds + self.seconds\n",
        "\n",
        "        while self.seconds >= 60:\n",
        "            self.seconds = self.seconds - 60\n",
        "            self.minutes = self.minutes + 1\n",
        "\n",
        "        while self.minutes >= 60:\n",
        "            self.minutes = self.minutes - 60\n",
        "            self.hours = self.hours + 1"
      ],
      "execution_count": null,
      "outputs": []
    },
    {
      "cell_type": "code",
      "metadata": {
        "id": "DP5-jXckrtbg"
      },
      "source": [
        "class Point:\n",
        "    def __init__(self, x, y):\n",
        "        self.x = x\n",
        "        self.y = y\n",
        "\n",
        "    def distance_from_origin(self):\n",
        "        return ((self.x ** 2) + (self.y ** 2)) ** 0.5\n",
        "    def print_point(p):\n",
        "    print('({0}, {1})'.format(p.x, p.y))\n",
        "    \n",
        "    def print_point(self):\n",
        "    print('({0}, {1})'.format(self.x, self.y))"
      ],
      "execution_count": null,
      "outputs": []
    },
    {
      "cell_type": "code",
      "metadata": {
        "id": "3Sjf1ES4sywt"
      },
      "source": [
        "# Function to calculate distance traveled based on velocity\n",
        "def calculate_distance2(time, velocity):\n",
        "    distance = time * velocity\n",
        "    print(\" Distance(km) :\", distance);\n",
        "    return distance;"
      ],
      "execution_count": null,
      "outputs": []
    },
    {
      "cell_type": "code",
      "metadata": {
        "id": "UlguSDgWsy-d"
      },
      "source": [
        "from abc import ABC, abstractmethod\n",
        "\n",
        "class Vehicle(ABC):\n",
        "    def __init__(self, Liters_gas, fuel_consumption, Joker_Point, turbo, time, PEMuse_number_left, Rocket_number_left, velocity):\n",
        "        self.Liters_gas_left = Liters_gas_left\n",
        "        self.fuel_consumption = fuel_consumption\n",
        "        self.Joker_Point = Joker_Point\n",
        "        self.turbo = turbo\n",
        "        self.time = time\n",
        "        self.PEMuse_number_left = PEMuse_number_left\n",
        "        self.Rocket_number_left = Rocket_number_left\n",
        "        self.velocity = velocity\n",
        " \n",
        "    @abstractmethod\n",
        "    def DriveRefuel(self, distance):\n",
        "        raise NotImplementedError('Subclasses must override drive()!')\n",
        "        \n",
        "    def DriveNormal(self, distance):\n",
        "        raise NotImplementedError('Subclasses must override drive()!')\n",
        "        \n",
        "    def DriveTurbo(self, distance):\n",
        "        raise NotImplementedError('Subclasses must override drive()!')\n",
        "        \n",
        "    def LaunchRocket(self, Joker_Point):\n",
        "        raise NotImplementedError('Subclasses must override drive()!')\n",
        "        \n",
        "    def LaunchPEMuse(self, PEMuse_number_left):\n",
        "        raise NotImplementedError('Subclasses must override drive()!')\n",
        " \n",
        "    def refuel(self, fuel):\n",
        "        raise NotImplementedError('Subclasses must override refuel()!')\n",
        " \n",
        " \n",
        "class Car(Vehicle):\n",
        "    def __init__(self, Liters_gas_left, fuel_consumption):\n",
        "        super().__init__(Liters_gas_left, fuel_consumption, Joker_Point, turbo, time, PEMuse_number_left)\n",
        " \n",
        "    def refuel(self, fuel):\n",
        "        self.Liters_gas_left += fuel\n",
        " \n",
        "    def DriveRefuel(self, distance):\n",
        "        fuel_needed  = distance * (self.fuel_consumption + 0.9)\n",
        "        if fuel_needed <= self.Liters_gas_left:\n",
        "            self.Liters_gas_left -= fuel_needed\n",
        "            \n",
        "    def DriveNormal(self, distance):\n",
        "        if turbo  ==  0:\n",
        "            DriveRefuel(distance)\n",
        "        \n",
        "    def DriveTurbo(self, distance):\n",
        "        if turbo  == 1:\n",
        "            velocity += 5 \n",
        "            DriveRefuel(distance)\n",
        "            \n",
        "    def LaunchPEMuse(self, PEMuse_number_left):\n",
        "        if PEMuse_number_left  > 0:\n",
        "            PEMuse\n",
        "            \n",
        "    def LaunchRocket(self, JokerPoint):\n",
        "        if Rocket_number_left  > 0:\n",
        "            RocketLaunch"
      ],
      "execution_count": null,
      "outputs": []
    },
    {
      "cell_type": "code",
      "metadata": {
        "id": "BO0vDXQNszFm"
      },
      "source": [
        ""
      ],
      "execution_count": null,
      "outputs": []
    },
    {
      "cell_type": "code",
      "metadata": {
        "id": "R5dop0nlszKj"
      },
      "source": [
        ""
      ],
      "execution_count": null,
      "outputs": []
    },
    {
      "cell_type": "code",
      "metadata": {
        "id": "MKavNbqcszP1"
      },
      "source": [
        ""
      ],
      "execution_count": null,
      "outputs": []
    }
  ]
}